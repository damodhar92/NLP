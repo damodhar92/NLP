{
 "cells": [
  {
   "cell_type": "code",
   "execution_count": 1,
   "id": "7d8fc444",
   "metadata": {},
   "outputs": [],
   "source": [
    "import spacy"
   ]
  },
  {
   "cell_type": "code",
   "execution_count": 2,
   "id": "a851fbbf",
   "metadata": {},
   "outputs": [],
   "source": [
    "nlp = spacy.load('en_core_web_sm')"
   ]
  },
  {
   "cell_type": "code",
   "execution_count": 3,
   "id": "52b0a8a8",
   "metadata": {},
   "outputs": [
    {
     "name": "stdout",
     "output_type": "stream",
     "text": [
      "Elon\n",
      "flew\n",
      "to\n",
      "mars\n",
      "yestarday\n",
      ".\n",
      "He\n",
      "carried\n",
      "biryani\n",
      "masala\n",
      "with\n",
      "him\n"
     ]
    }
   ],
   "source": [
    "doc=nlp('Elon flew to mars yestarday. He carried biryani masala with him')\n",
    "\n",
    "for token in doc:\n",
    "    print(token)"
   ]
  },
  {
   "cell_type": "code",
   "execution_count": 4,
   "id": "f7286779",
   "metadata": {},
   "outputs": [
    {
     "name": "stdout",
     "output_type": "stream",
     "text": [
      "Elon | PROPN | proper noun\n",
      "flew | VERB | verb\n",
      "to | ADP | adposition\n",
      "mars | NOUN | noun\n",
      "yestarday | NOUN | noun\n",
      ". | PUNCT | punctuation\n",
      "He | PRON | pronoun\n",
      "carried | VERB | verb\n",
      "biryani | ADJ | adjective\n",
      "masala | NOUN | noun\n",
      "with | ADP | adposition\n",
      "him | PRON | pronoun\n"
     ]
    }
   ],
   "source": [
    "for token in doc:\n",
    "    print(token,\"|\", token.pos_,\"|\", spacy.explain(token.pos_))"
   ]
  },
  {
   "cell_type": "code",
   "execution_count": 5,
   "id": "d566cb65",
   "metadata": {},
   "outputs": [],
   "source": [
    "doc=nlp(\"Wow! Dr.Strange made 265 million $ on the very first day\")"
   ]
  },
  {
   "cell_type": "code",
   "execution_count": 6,
   "id": "1a685d46",
   "metadata": {
    "scrolled": true
   },
   "outputs": [
    {
     "name": "stdout",
     "output_type": "stream",
     "text": [
      "Wow | INTJ | interjection\n",
      "! | PUNCT | punctuation\n",
      "Dr. | PROPN | proper noun\n",
      "Strange | PROPN | proper noun\n",
      "made | VERB | verb\n",
      "265 | NUM | numeral\n",
      "million | NUM | numeral\n",
      "$ | NUM | numeral\n",
      "on | ADP | adposition\n",
      "the | DET | determiner\n",
      "very | ADV | adverb\n",
      "first | ADJ | adjective\n",
      "day | NOUN | noun\n"
     ]
    }
   ],
   "source": [
    "for token in doc:\n",
    "    print(token, \"|\", token.pos_, \"|\", spacy.explain(token.pos_))"
   ]
  },
  {
   "cell_type": "code",
   "execution_count": 7,
   "id": "0d72679a",
   "metadata": {},
   "outputs": [
    {
     "name": "stdout",
     "output_type": "stream",
     "text": [
      "Wow | INTJ | interjection | UH | interjection\n",
      "! | PUNCT | punctuation | . | punctuation mark, sentence closer\n",
      "Dr. | PROPN | proper noun | NNP | noun, proper singular\n",
      "Strange | PROPN | proper noun | NNP | noun, proper singular\n",
      "made | VERB | verb | VBD | verb, past tense\n",
      "265 | NUM | numeral | CD | cardinal number\n",
      "million | NUM | numeral | CD | cardinal number\n",
      "$ | NUM | numeral | CD | cardinal number\n",
      "on | ADP | adposition | IN | conjunction, subordinating or preposition\n",
      "the | DET | determiner | DT | determiner\n",
      "very | ADV | adverb | RB | adverb\n",
      "first | ADJ | adjective | JJ | adjective (English), other noun-modifier (Chinese)\n",
      "day | NOUN | noun | NN | noun, singular or mass\n"
     ]
    }
   ],
   "source": [
    "for token in doc:\n",
    "    print(token, \"|\", token.pos_, \"|\", spacy.explain(token.pos_),\"|\", token.tag_,\"|\",spacy.explain(token.tag_))"
   ]
  },
  {
   "cell_type": "code",
   "execution_count": 8,
   "id": "931af786",
   "metadata": {},
   "outputs": [
    {
     "name": "stdout",
     "output_type": "stream",
     "text": [
      "quit | VBD | verb, past tense\n"
     ]
    }
   ],
   "source": [
    "doc=nlp(\"He quit the job\")\n",
    "\n",
    "doc[1]\n",
    "print(doc[1].text, \"|\", doc[1].tag_, \"|\", spacy.explain(doc[1].tag_))"
   ]
  },
  {
   "cell_type": "markdown",
   "id": "0fcb31c4",
   "metadata": {},
   "source": [
    "### Removing Unnecessary Tokens"
   ]
  },
  {
   "cell_type": "code",
   "execution_count": 9,
   "id": "cece6ef9",
   "metadata": {},
   "outputs": [],
   "source": [
    "earnings_text=\"\"\"Microsoft Corp. today announced the following results for the quarter ended December 31, 2021, as compared to the corresponding period of last fiscal year:\n",
    "\n",
    "·         Revenue was $51.7 billion and increased 20%\n",
    "·         Operating income was $22.2 billion and increased 24%\n",
    "·         Net income was $18.8 billion and increased 21%\n",
    "·         Diluted earnings per share was $2.48 and increased 22%\n",
    "“Digital technology is the most malleable resource at the world’s disposal to overcome constraints and reimagine everyday work and life,” said Satya Nadella, chairman and chief executive officer of Microsoft. “As tech as a percentage of global GDP continues to increase, we are innovating and investing across diverse and growing markets, with a common underlying technology stack and an operating model that reinforces a common strategy, culture, and sense of purpose.”\n",
    "“Solid commercial execution, represented by strong bookings growth driven by long-term Azure commitments, increased Microsoft\"\n",
    "\"\"\""
   ]
  },
  {
   "cell_type": "code",
   "execution_count": 10,
   "id": "242ee8fd",
   "metadata": {},
   "outputs": [
    {
     "name": "stdout",
     "output_type": "stream",
     "text": [
      "Microsoft | PROPN | proper noun\n",
      "Corp. | PROPN | proper noun\n",
      "today | NOUN | noun\n",
      "announced | VERB | verb\n",
      "the | DET | determiner\n",
      "following | VERB | verb\n",
      "results | NOUN | noun\n",
      "for | ADP | adposition\n",
      "the | DET | determiner\n",
      "quarter | NOUN | noun\n",
      "ended | VERB | verb\n",
      "December | PROPN | proper noun\n",
      "31 | NUM | numeral\n",
      ", | PUNCT | punctuation\n",
      "2021 | NUM | numeral\n",
      ", | PUNCT | punctuation\n",
      "as | SCONJ | subordinating conjunction\n",
      "compared | VERB | verb\n",
      "to | ADP | adposition\n",
      "the | DET | determiner\n",
      "corresponding | ADJ | adjective\n",
      "period | NOUN | noun\n",
      "of | ADP | adposition\n",
      "last | ADJ | adjective\n",
      "fiscal | ADJ | adjective\n",
      "year | NOUN | noun\n",
      ": | PUNCT | punctuation\n",
      "\n",
      "\n",
      " | SPACE | space\n",
      "· | PUNCT | punctuation\n",
      "         | SPACE | space\n",
      "Revenue | NOUN | noun\n",
      "was | AUX | auxiliary\n",
      "$ | SYM | symbol\n",
      "51.7 | NUM | numeral\n",
      "billion | NUM | numeral\n",
      "and | CCONJ | coordinating conjunction\n",
      "increased | VERB | verb\n",
      "20 | NUM | numeral\n",
      "% | NOUN | noun\n",
      "\n",
      " | SPACE | space\n",
      "· | PUNCT | punctuation\n",
      "         | SPACE | space\n",
      "Operating | VERB | verb\n",
      "income | NOUN | noun\n",
      "was | AUX | auxiliary\n",
      "$ | SYM | symbol\n",
      "22.2 | NUM | numeral\n",
      "billion | NUM | numeral\n",
      "and | CCONJ | coordinating conjunction\n",
      "increased | VERB | verb\n",
      "24 | NUM | numeral\n",
      "% | NOUN | noun\n",
      "\n",
      " | SPACE | space\n",
      "· | PUNCT | punctuation\n",
      "         | SPACE | space\n",
      "Net | ADJ | adjective\n",
      "income | NOUN | noun\n",
      "was | AUX | auxiliary\n",
      "$ | SYM | symbol\n",
      "18.8 | NUM | numeral\n",
      "billion | NUM | numeral\n",
      "and | CCONJ | coordinating conjunction\n",
      "increased | VERB | verb\n",
      "21 | NUM | numeral\n",
      "% | NOUN | noun\n",
      "\n",
      " | SPACE | space\n",
      "· | PUNCT | punctuation\n",
      "         | SPACE | space\n",
      "Diluted | VERB | verb\n",
      "earnings | NOUN | noun\n",
      "per | ADP | adposition\n",
      "share | NOUN | noun\n",
      "was | AUX | auxiliary\n",
      "$ | SYM | symbol\n",
      "2.48 | NUM | numeral\n",
      "and | CCONJ | coordinating conjunction\n",
      "increased | VERB | verb\n",
      "22 | NUM | numeral\n",
      "% | NOUN | noun\n",
      "\n",
      " | SPACE | space\n",
      "“ | PUNCT | punctuation\n",
      "Digital | PROPN | proper noun\n",
      "technology | NOUN | noun\n",
      "is | AUX | auxiliary\n",
      "the | DET | determiner\n",
      "most | ADV | adverb\n",
      "malleable | ADJ | adjective\n",
      "resource | NOUN | noun\n",
      "at | ADP | adposition\n",
      "the | DET | determiner\n",
      "world | NOUN | noun\n",
      "’s | PART | particle\n",
      "disposal | NOUN | noun\n",
      "to | PART | particle\n",
      "overcome | VERB | verb\n",
      "constraints | NOUN | noun\n",
      "and | CCONJ | coordinating conjunction\n",
      "reimagine | VERB | verb\n",
      "everyday | ADJ | adjective\n",
      "work | NOUN | noun\n",
      "and | CCONJ | coordinating conjunction\n",
      "life | NOUN | noun\n",
      ", | PUNCT | punctuation\n",
      "” | PUNCT | punctuation\n",
      "said | VERB | verb\n",
      "Satya | PROPN | proper noun\n",
      "Nadella | PROPN | proper noun\n",
      ", | PUNCT | punctuation\n",
      "chairman | NOUN | noun\n",
      "and | CCONJ | coordinating conjunction\n",
      "chief | ADJ | adjective\n",
      "executive | ADJ | adjective\n",
      "officer | NOUN | noun\n",
      "of | ADP | adposition\n",
      "Microsoft | PROPN | proper noun\n",
      ". | PUNCT | punctuation\n",
      "“ | PUNCT | punctuation\n",
      "As | ADV | adverb\n",
      "tech | NOUN | noun\n",
      "as | ADP | adposition\n",
      "a | DET | determiner\n",
      "percentage | NOUN | noun\n",
      "of | ADP | adposition\n",
      "global | ADJ | adjective\n",
      "GDP | PROPN | proper noun\n",
      "continues | VERB | verb\n",
      "to | PART | particle\n",
      "increase | VERB | verb\n",
      ", | PUNCT | punctuation\n",
      "we | PRON | pronoun\n",
      "are | AUX | auxiliary\n",
      "innovating | VERB | verb\n",
      "and | CCONJ | coordinating conjunction\n",
      "investing | VERB | verb\n",
      "across | ADP | adposition\n",
      "diverse | ADJ | adjective\n",
      "and | CCONJ | coordinating conjunction\n",
      "growing | VERB | verb\n",
      "markets | NOUN | noun\n",
      ", | PUNCT | punctuation\n",
      "with | ADP | adposition\n",
      "a | DET | determiner\n",
      "common | ADJ | adjective\n",
      "underlying | VERB | verb\n",
      "technology | NOUN | noun\n",
      "stack | NOUN | noun\n",
      "and | CCONJ | coordinating conjunction\n",
      "an | DET | determiner\n",
      "operating | NOUN | noun\n",
      "model | NOUN | noun\n",
      "that | PRON | pronoun\n",
      "reinforces | VERB | verb\n",
      "a | DET | determiner\n",
      "common | ADJ | adjective\n",
      "strategy | NOUN | noun\n",
      ", | PUNCT | punctuation\n",
      "culture | NOUN | noun\n",
      ", | PUNCT | punctuation\n",
      "and | CCONJ | coordinating conjunction\n",
      "sense | NOUN | noun\n",
      "of | ADP | adposition\n",
      "purpose | NOUN | noun\n",
      ". | PUNCT | punctuation\n",
      "” | PUNCT | punctuation\n",
      "\n",
      " | SPACE | space\n",
      "“ | PUNCT | punctuation\n",
      "Solid | ADJ | adjective\n",
      "commercial | ADJ | adjective\n",
      "execution | NOUN | noun\n",
      ", | PUNCT | punctuation\n",
      "represented | VERB | verb\n",
      "by | ADP | adposition\n",
      "strong | ADJ | adjective\n",
      "bookings | NOUN | noun\n",
      "growth | NOUN | noun\n",
      "driven | VERB | verb\n",
      "by | ADP | adposition\n",
      "long | ADJ | adjective\n",
      "- | PUNCT | punctuation\n",
      "term | NOUN | noun\n",
      "Azure | ADJ | adjective\n",
      "commitments | NOUN | noun\n",
      ", | PUNCT | punctuation\n",
      "increased | VERB | verb\n",
      "Microsoft | PROPN | proper noun\n",
      "\" | PUNCT | punctuation\n",
      "\n",
      " | SPACE | space\n"
     ]
    }
   ],
   "source": [
    "doc=nlp(earnings_text)\n",
    "for token in doc:\n",
    "    print(token,\"|\",token.pos_, \"|\", spacy.explain(token.pos_))\n",
    "    "
   ]
  },
  {
   "cell_type": "code",
   "execution_count": 11,
   "id": "26c1ff65",
   "metadata": {
    "scrolled": true
   },
   "outputs": [
    {
     "name": "stdout",
     "output_type": "stream",
     "text": [
      ", | PUNCT | punctuation\n",
      ", | PUNCT | punctuation\n",
      ": | PUNCT | punctuation\n",
      "\n",
      "\n",
      " | SPACE | space\n",
      "· | PUNCT | punctuation\n",
      "         | SPACE | space\n",
      "\n",
      " | SPACE | space\n",
      "· | PUNCT | punctuation\n",
      "         | SPACE | space\n",
      "\n",
      " | SPACE | space\n",
      "· | PUNCT | punctuation\n",
      "         | SPACE | space\n",
      "\n",
      " | SPACE | space\n",
      "· | PUNCT | punctuation\n",
      "         | SPACE | space\n",
      "\n",
      " | SPACE | space\n",
      "“ | PUNCT | punctuation\n",
      ", | PUNCT | punctuation\n",
      "” | PUNCT | punctuation\n",
      ", | PUNCT | punctuation\n",
      ". | PUNCT | punctuation\n",
      "“ | PUNCT | punctuation\n",
      ", | PUNCT | punctuation\n",
      ", | PUNCT | punctuation\n",
      ", | PUNCT | punctuation\n",
      ", | PUNCT | punctuation\n",
      ". | PUNCT | punctuation\n",
      "” | PUNCT | punctuation\n",
      "\n",
      " | SPACE | space\n",
      "“ | PUNCT | punctuation\n",
      ", | PUNCT | punctuation\n",
      "- | PUNCT | punctuation\n",
      ", | PUNCT | punctuation\n",
      "\" | PUNCT | punctuation\n",
      "\n",
      " | SPACE | space\n"
     ]
    }
   ],
   "source": [
    "#Unnecessary tokens \n",
    "doc=nlp(earnings_text)\n",
    "\n",
    "for token in doc:\n",
    "    if token.pos_ in ['SPACE',\"X\",\"PUNCT\"]:\n",
    "        print(token, \"|\", token.pos_, \"|\", spacy.explain(token.pos_))"
   ]
  },
  {
   "cell_type": "code",
   "execution_count": 12,
   "id": "654ac6c6",
   "metadata": {},
   "outputs": [],
   "source": [
    "doc=nlp(earnings_text)\n",
    "filtered_tokens=[]\n",
    "\n",
    "for token in doc:\n",
    "    if token.pos_ not in [\"space\", \"X\", \"PUNCT\"]:\n",
    "        filtered_tokens.append(token)"
   ]
  },
  {
   "cell_type": "code",
   "execution_count": 13,
   "id": "e0398d4c",
   "metadata": {},
   "outputs": [
    {
     "data": {
      "text/plain": [
       "[Microsoft,\n",
       " Corp.,\n",
       " today,\n",
       " announced,\n",
       " the,\n",
       " following,\n",
       " results,\n",
       " for,\n",
       " the,\n",
       " quarter,\n",
       " ended,\n",
       " December,\n",
       " 31,\n",
       " 2021,\n",
       " as,\n",
       " compared,\n",
       " to,\n",
       " the,\n",
       " corresponding,\n",
       " period]"
      ]
     },
     "execution_count": 13,
     "metadata": {},
     "output_type": "execute_result"
    }
   ],
   "source": [
    "filtered_tokens[:20]"
   ]
  },
  {
   "cell_type": "code",
   "execution_count": 14,
   "id": "25e435d3",
   "metadata": {},
   "outputs": [
    {
     "data": {
      "text/plain": [
       "{96: 9,\n",
       " 92: 39,\n",
       " 100: 23,\n",
       " 90: 9,\n",
       " 85: 13,\n",
       " 93: 13,\n",
       " 97: 24,\n",
       " 98: 1,\n",
       " 84: 17,\n",
       " 103: 11,\n",
       " 87: 6,\n",
       " 99: 4,\n",
       " 89: 11,\n",
       " 86: 2,\n",
       " 94: 3,\n",
       " 95: 2}"
      ]
     },
     "execution_count": 14,
     "metadata": {},
     "output_type": "execute_result"
    }
   ],
   "source": [
    "#to find how many nouns present \n",
    "count=doc.count_by(spacy.attrs.POS)\n",
    "count"
   ]
  },
  {
   "cell_type": "code",
   "execution_count": 15,
   "id": "0cd29d75",
   "metadata": {},
   "outputs": [
    {
     "data": {
      "text/plain": [
       "'PROPN'"
      ]
     },
     "execution_count": 15,
     "metadata": {},
     "output_type": "execute_result"
    }
   ],
   "source": [
    "doc.vocab[96].text"
   ]
  },
  {
   "cell_type": "code",
   "execution_count": 16,
   "id": "c30a9ea3",
   "metadata": {},
   "outputs": [
    {
     "name": "stdout",
     "output_type": "stream",
     "text": [
      "PROPN | 9\n",
      "NOUN | 39\n",
      "VERB | 23\n",
      "DET | 9\n",
      "ADP | 13\n",
      "NUM | 13\n",
      "PUNCT | 24\n",
      "SCONJ | 1\n",
      "ADJ | 17\n",
      "SPACE | 11\n",
      "AUX | 6\n",
      "SYM | 4\n",
      "CCONJ | 11\n",
      "ADV | 2\n",
      "PART | 3\n",
      "PRON | 2\n"
     ]
    }
   ],
   "source": [
    "for k, v in count.items():\n",
    "    print(doc.vocab[k].text, \"|\", v)"
   ]
  }
 ],
 "metadata": {
  "kernelspec": {
   "display_name": "Python 3 (ipykernel)",
   "language": "python",
   "name": "python3"
  },
  "language_info": {
   "codemirror_mode": {
    "name": "ipython",
    "version": 3
   },
   "file_extension": ".py",
   "mimetype": "text/x-python",
   "name": "python",
   "nbconvert_exporter": "python",
   "pygments_lexer": "ipython3",
   "version": "3.9.18"
  }
 },
 "nbformat": 4,
 "nbformat_minor": 5
}
