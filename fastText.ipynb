{
 "cells": [
  {
   "cell_type": "code",
   "execution_count": 1,
   "id": "eb6e80fc",
   "metadata": {},
   "outputs": [
    {
     "name": "stdout",
     "output_type": "stream",
     "text": [
      "(24001, 2)\n"
     ]
    },
    {
     "data": {
      "text/html": [
       "<div>\n",
       "<style scoped>\n",
       "    .dataframe tbody tr th:only-of-type {\n",
       "        vertical-align: middle;\n",
       "    }\n",
       "\n",
       "    .dataframe tbody tr th {\n",
       "        vertical-align: top;\n",
       "    }\n",
       "\n",
       "    .dataframe thead th {\n",
       "        text-align: right;\n",
       "    }\n",
       "</style>\n",
       "<table border=\"1\" class=\"dataframe\">\n",
       "  <thead>\n",
       "    <tr style=\"text-align: right;\">\n",
       "      <th></th>\n",
       "      <th>description</th>\n",
       "      <th>category</th>\n",
       "    </tr>\n",
       "  </thead>\n",
       "  <tbody>\n",
       "    <tr>\n",
       "      <th>0</th>\n",
       "      <td>Text</td>\n",
       "      <td>label</td>\n",
       "    </tr>\n",
       "    <tr>\n",
       "      <th>1</th>\n",
       "      <td>Urban Ladder Eisner Low Back Study-Office Comp...</td>\n",
       "      <td>Household</td>\n",
       "    </tr>\n",
       "    <tr>\n",
       "      <th>2</th>\n",
       "      <td>Contrast living Wooden Decorative Box,Painted ...</td>\n",
       "      <td>Household</td>\n",
       "    </tr>\n",
       "    <tr>\n",
       "      <th>3</th>\n",
       "      <td>IO Crest SY-PCI40010 PCI RAID Host Controller ...</td>\n",
       "      <td>Electronics</td>\n",
       "    </tr>\n",
       "    <tr>\n",
       "      <th>4</th>\n",
       "      <td>ISAKAA Baby Socks from Just Born to 8 Years- P...</td>\n",
       "      <td>Clothing &amp; Accessories</td>\n",
       "    </tr>\n",
       "  </tbody>\n",
       "</table>\n",
       "</div>"
      ],
      "text/plain": [
       "                                         description                category\n",
       "0                                               Text                   label\n",
       "1  Urban Ladder Eisner Low Back Study-Office Comp...               Household\n",
       "2  Contrast living Wooden Decorative Box,Painted ...               Household\n",
       "3  IO Crest SY-PCI40010 PCI RAID Host Controller ...             Electronics\n",
       "4  ISAKAA Baby Socks from Just Born to 8 Years- P...  Clothing & Accessories"
      ]
     },
     "execution_count": 1,
     "metadata": {},
     "output_type": "execute_result"
    }
   ],
   "source": [
    "import pandas as pd\n",
    "\n",
    "df=pd.read_csv(\"C:/Users/Damodhara/Desktop/DSMP Dataset/Ecommerce_data.csv\",names=['description','category',], header=None)\n",
    "print(df.shape)\n",
    "df.head()"
   ]
  },
  {
   "cell_type": "code",
   "execution_count": 2,
   "id": "46b2e4cb",
   "metadata": {},
   "outputs": [],
   "source": [
    "df.drop(index=df.index[0], inplace=True)"
   ]
  },
  {
   "cell_type": "code",
   "execution_count": 3,
   "id": "001ff51d",
   "metadata": {},
   "outputs": [
    {
     "data": {
      "text/html": [
       "<div>\n",
       "<style scoped>\n",
       "    .dataframe tbody tr th:only-of-type {\n",
       "        vertical-align: middle;\n",
       "    }\n",
       "\n",
       "    .dataframe tbody tr th {\n",
       "        vertical-align: top;\n",
       "    }\n",
       "\n",
       "    .dataframe thead th {\n",
       "        text-align: right;\n",
       "    }\n",
       "</style>\n",
       "<table border=\"1\" class=\"dataframe\">\n",
       "  <thead>\n",
       "    <tr style=\"text-align: right;\">\n",
       "      <th></th>\n",
       "      <th>description</th>\n",
       "      <th>category</th>\n",
       "    </tr>\n",
       "  </thead>\n",
       "  <tbody>\n",
       "    <tr>\n",
       "      <th>1</th>\n",
       "      <td>Urban Ladder Eisner Low Back Study-Office Comp...</td>\n",
       "      <td>Household</td>\n",
       "    </tr>\n",
       "    <tr>\n",
       "      <th>2</th>\n",
       "      <td>Contrast living Wooden Decorative Box,Painted ...</td>\n",
       "      <td>Household</td>\n",
       "    </tr>\n",
       "    <tr>\n",
       "      <th>3</th>\n",
       "      <td>IO Crest SY-PCI40010 PCI RAID Host Controller ...</td>\n",
       "      <td>Electronics</td>\n",
       "    </tr>\n",
       "    <tr>\n",
       "      <th>4</th>\n",
       "      <td>ISAKAA Baby Socks from Just Born to 8 Years- P...</td>\n",
       "      <td>Clothing &amp; Accessories</td>\n",
       "    </tr>\n",
       "    <tr>\n",
       "      <th>5</th>\n",
       "      <td>Indira Designer Women's Art Mysore Silk Saree ...</td>\n",
       "      <td>Clothing &amp; Accessories</td>\n",
       "    </tr>\n",
       "  </tbody>\n",
       "</table>\n",
       "</div>"
      ],
      "text/plain": [
       "                                         description                category\n",
       "1  Urban Ladder Eisner Low Back Study-Office Comp...               Household\n",
       "2  Contrast living Wooden Decorative Box,Painted ...               Household\n",
       "3  IO Crest SY-PCI40010 PCI RAID Host Controller ...             Electronics\n",
       "4  ISAKAA Baby Socks from Just Born to 8 Years- P...  Clothing & Accessories\n",
       "5  Indira Designer Women's Art Mysore Silk Saree ...  Clothing & Accessories"
      ]
     },
     "execution_count": 3,
     "metadata": {},
     "output_type": "execute_result"
    }
   ],
   "source": [
    "df.head()"
   ]
  },
  {
   "cell_type": "code",
   "execution_count": 4,
   "id": "d0172b23",
   "metadata": {},
   "outputs": [
    {
     "data": {
      "text/plain": [
       "Household                 6000\n",
       "Electronics               6000\n",
       "Clothing & Accessories    6000\n",
       "Books                     6000\n",
       "Name: category, dtype: int64"
      ]
     },
     "execution_count": 4,
     "metadata": {},
     "output_type": "execute_result"
    }
   ],
   "source": [
    "df.category.value_counts()"
   ]
  },
  {
   "cell_type": "code",
   "execution_count": 5,
   "id": "582d42e0",
   "metadata": {},
   "outputs": [
    {
     "data": {
      "text/plain": [
       "description    0\n",
       "category       0\n",
       "dtype: int64"
      ]
     },
     "execution_count": 5,
     "metadata": {},
     "output_type": "execute_result"
    }
   ],
   "source": [
    "#check for null values \n",
    "df.isnull().sum()"
   ]
  },
  {
   "cell_type": "code",
   "execution_count": 6,
   "id": "808b900f",
   "metadata": {},
   "outputs": [
    {
     "data": {
      "text/plain": [
       "array(['Household', 'Electronics', 'Clothing_Accessories', 'Books'],\n",
       "      dtype=object)"
      ]
     },
     "execution_count": 6,
     "metadata": {},
     "output_type": "execute_result"
    }
   ],
   "source": [
    "df.category.replace('Clothing & Accessories',\"Clothing_Accessories\", inplace=True)\n",
    "df.category.unique()"
   ]
  },
  {
   "cell_type": "code",
   "execution_count": 7,
   "id": "a3931381",
   "metadata": {},
   "outputs": [
    {
     "data": {
      "text/html": [
       "<div>\n",
       "<style scoped>\n",
       "    .dataframe tbody tr th:only-of-type {\n",
       "        vertical-align: middle;\n",
       "    }\n",
       "\n",
       "    .dataframe tbody tr th {\n",
       "        vertical-align: top;\n",
       "    }\n",
       "\n",
       "    .dataframe thead th {\n",
       "        text-align: right;\n",
       "    }\n",
       "</style>\n",
       "<table border=\"1\" class=\"dataframe\">\n",
       "  <thead>\n",
       "    <tr style=\"text-align: right;\">\n",
       "      <th></th>\n",
       "      <th>description</th>\n",
       "      <th>category</th>\n",
       "    </tr>\n",
       "  </thead>\n",
       "  <tbody>\n",
       "    <tr>\n",
       "      <th>1</th>\n",
       "      <td>Urban Ladder Eisner Low Back Study-Office Comp...</td>\n",
       "      <td>__label__Household</td>\n",
       "    </tr>\n",
       "    <tr>\n",
       "      <th>2</th>\n",
       "      <td>Contrast living Wooden Decorative Box,Painted ...</td>\n",
       "      <td>__label__Household</td>\n",
       "    </tr>\n",
       "    <tr>\n",
       "      <th>3</th>\n",
       "      <td>IO Crest SY-PCI40010 PCI RAID Host Controller ...</td>\n",
       "      <td>__label__Electronics</td>\n",
       "    </tr>\n",
       "    <tr>\n",
       "      <th>4</th>\n",
       "      <td>ISAKAA Baby Socks from Just Born to 8 Years- P...</td>\n",
       "      <td>__label__Clothing_Accessories</td>\n",
       "    </tr>\n",
       "    <tr>\n",
       "      <th>5</th>\n",
       "      <td>Indira Designer Women's Art Mysore Silk Saree ...</td>\n",
       "      <td>__label__Clothing_Accessories</td>\n",
       "    </tr>\n",
       "  </tbody>\n",
       "</table>\n",
       "</div>"
      ],
      "text/plain": [
       "                                         description  \\\n",
       "1  Urban Ladder Eisner Low Back Study-Office Comp...   \n",
       "2  Contrast living Wooden Decorative Box,Painted ...   \n",
       "3  IO Crest SY-PCI40010 PCI RAID Host Controller ...   \n",
       "4  ISAKAA Baby Socks from Just Born to 8 Years- P...   \n",
       "5  Indira Designer Women's Art Mysore Silk Saree ...   \n",
       "\n",
       "                        category  \n",
       "1             __label__Household  \n",
       "2             __label__Household  \n",
       "3           __label__Electronics  \n",
       "4  __label__Clothing_Accessories  \n",
       "5  __label__Clothing_Accessories  "
      ]
     },
     "execution_count": 7,
     "metadata": {},
     "output_type": "execute_result"
    }
   ],
   "source": [
    "df['category'] = \"__label__\" + df['category'].astype(str)\n",
    "df.head()"
   ]
  },
  {
   "cell_type": "code",
   "execution_count": 8,
   "id": "3f7a6fdb",
   "metadata": {},
   "outputs": [
    {
     "data": {
      "text/html": [
       "<div>\n",
       "<style scoped>\n",
       "    .dataframe tbody tr th:only-of-type {\n",
       "        vertical-align: middle;\n",
       "    }\n",
       "\n",
       "    .dataframe tbody tr th {\n",
       "        vertical-align: top;\n",
       "    }\n",
       "\n",
       "    .dataframe thead th {\n",
       "        text-align: right;\n",
       "    }\n",
       "</style>\n",
       "<table border=\"1\" class=\"dataframe\">\n",
       "  <thead>\n",
       "    <tr style=\"text-align: right;\">\n",
       "      <th></th>\n",
       "      <th>description</th>\n",
       "      <th>category</th>\n",
       "      <th>category_description</th>\n",
       "    </tr>\n",
       "  </thead>\n",
       "  <tbody>\n",
       "    <tr>\n",
       "      <th>1</th>\n",
       "      <td>Urban Ladder Eisner Low Back Study-Office Comp...</td>\n",
       "      <td>__label__Household</td>\n",
       "      <td>__label__HouseholdUrban Ladder Eisner Low Back...</td>\n",
       "    </tr>\n",
       "    <tr>\n",
       "      <th>2</th>\n",
       "      <td>Contrast living Wooden Decorative Box,Painted ...</td>\n",
       "      <td>__label__Household</td>\n",
       "      <td>__label__HouseholdContrast living Wooden Decor...</td>\n",
       "    </tr>\n",
       "    <tr>\n",
       "      <th>3</th>\n",
       "      <td>IO Crest SY-PCI40010 PCI RAID Host Controller ...</td>\n",
       "      <td>__label__Electronics</td>\n",
       "      <td>__label__ElectronicsIO Crest SY-PCI40010 PCI R...</td>\n",
       "    </tr>\n",
       "  </tbody>\n",
       "</table>\n",
       "</div>"
      ],
      "text/plain": [
       "                                         description              category  \\\n",
       "1  Urban Ladder Eisner Low Back Study-Office Comp...    __label__Household   \n",
       "2  Contrast living Wooden Decorative Box,Painted ...    __label__Household   \n",
       "3  IO Crest SY-PCI40010 PCI RAID Host Controller ...  __label__Electronics   \n",
       "\n",
       "                                category_description  \n",
       "1  __label__HouseholdUrban Ladder Eisner Low Back...  \n",
       "2  __label__HouseholdContrast living Wooden Decor...  \n",
       "3  __label__ElectronicsIO Crest SY-PCI40010 PCI R...  "
      ]
     },
     "execution_count": 8,
     "metadata": {},
     "output_type": "execute_result"
    }
   ],
   "source": [
    "df['category_description']=df['category']+df['description']\n",
    "df.head(3)"
   ]
  },
  {
   "cell_type": "markdown",
   "id": "eb098721",
   "metadata": {},
   "source": [
    "### Pre-procesing\n",
    "\n",
    "* Remove punctuation\n",
    "* Remove extra space\n",
    "* Make the entire sentence lower case"
   ]
  },
  {
   "cell_type": "code",
   "execution_count": 18,
   "id": "cf092993",
   "metadata": {},
   "outputs": [],
   "source": [
    "import re\n",
    "\n",
    "text = \"  VIKI's | Bookcase/Bookshelf (3-Shelf/Shelve, White) | ? . hi\"\n",
    "text = re.sub(r'[^\\w\\s\\']', \" \", text)"
   ]
  },
  {
   "cell_type": "code",
   "execution_count": 19,
   "id": "a4f57ed8",
   "metadata": {},
   "outputs": [
    {
     "data": {
      "text/plain": [
       "\"  VIKI's   Bookcase Bookshelf  3 Shelf Shelve  White        hi\""
      ]
     },
     "execution_count": 19,
     "metadata": {},
     "output_type": "execute_result"
    }
   ],
   "source": [
    "text"
   ]
  },
  {
   "cell_type": "code",
   "execution_count": 20,
   "id": "9df81e67",
   "metadata": {},
   "outputs": [],
   "source": [
    "text =re.sub(r' +', ' ', text)"
   ]
  },
  {
   "cell_type": "code",
   "execution_count": 23,
   "id": "652eb113",
   "metadata": {},
   "outputs": [],
   "source": [
    "text=text.strip().lower()"
   ]
  },
  {
   "cell_type": "code",
   "execution_count": 24,
   "id": "bfeec363",
   "metadata": {},
   "outputs": [
    {
     "data": {
      "text/plain": [
       "\"viki's bookcase bookshelf 3 shelf shelve white hi\""
      ]
     },
     "execution_count": 24,
     "metadata": {},
     "output_type": "execute_result"
    }
   ],
   "source": [
    "text"
   ]
  },
  {
   "cell_type": "code",
   "execution_count": 25,
   "id": "557760ba",
   "metadata": {},
   "outputs": [],
   "source": [
    "def preprocess(text):\n",
    "    text = re.sub(r'[^\\w\\s\\']',' ', text)\n",
    "    text = re.sub(' +', ' ', text)\n",
    "    return text.strip().lower() "
   ]
  },
  {
   "cell_type": "code",
   "execution_count": 26,
   "id": "68e2d75e",
   "metadata": {},
   "outputs": [
    {
     "data": {
      "text/html": [
       "<div>\n",
       "<style scoped>\n",
       "    .dataframe tbody tr th:only-of-type {\n",
       "        vertical-align: middle;\n",
       "    }\n",
       "\n",
       "    .dataframe tbody tr th {\n",
       "        vertical-align: top;\n",
       "    }\n",
       "\n",
       "    .dataframe thead th {\n",
       "        text-align: right;\n",
       "    }\n",
       "</style>\n",
       "<table border=\"1\" class=\"dataframe\">\n",
       "  <thead>\n",
       "    <tr style=\"text-align: right;\">\n",
       "      <th></th>\n",
       "      <th>description</th>\n",
       "      <th>category</th>\n",
       "      <th>category_description</th>\n",
       "    </tr>\n",
       "  </thead>\n",
       "  <tbody>\n",
       "    <tr>\n",
       "      <th>1</th>\n",
       "      <td>Urban Ladder Eisner Low Back Study-Office Comp...</td>\n",
       "      <td>__label__Household</td>\n",
       "      <td>__label__householdurban ladder eisner low back...</td>\n",
       "    </tr>\n",
       "    <tr>\n",
       "      <th>2</th>\n",
       "      <td>Contrast living Wooden Decorative Box,Painted ...</td>\n",
       "      <td>__label__Household</td>\n",
       "      <td>__label__householdcontrast living wooden decor...</td>\n",
       "    </tr>\n",
       "    <tr>\n",
       "      <th>3</th>\n",
       "      <td>IO Crest SY-PCI40010 PCI RAID Host Controller ...</td>\n",
       "      <td>__label__Electronics</td>\n",
       "      <td>__label__electronicsio crest sy pci40010 pci r...</td>\n",
       "    </tr>\n",
       "    <tr>\n",
       "      <th>4</th>\n",
       "      <td>ISAKAA Baby Socks from Just Born to 8 Years- P...</td>\n",
       "      <td>__label__Clothing_Accessories</td>\n",
       "      <td>__label__clothing_accessoriesisakaa baby socks...</td>\n",
       "    </tr>\n",
       "    <tr>\n",
       "      <th>5</th>\n",
       "      <td>Indira Designer Women's Art Mysore Silk Saree ...</td>\n",
       "      <td>__label__Clothing_Accessories</td>\n",
       "      <td>__label__clothing_accessoriesindira designer w...</td>\n",
       "    </tr>\n",
       "  </tbody>\n",
       "</table>\n",
       "</div>"
      ],
      "text/plain": [
       "                                         description  \\\n",
       "1  Urban Ladder Eisner Low Back Study-Office Comp...   \n",
       "2  Contrast living Wooden Decorative Box,Painted ...   \n",
       "3  IO Crest SY-PCI40010 PCI RAID Host Controller ...   \n",
       "4  ISAKAA Baby Socks from Just Born to 8 Years- P...   \n",
       "5  Indira Designer Women's Art Mysore Silk Saree ...   \n",
       "\n",
       "                        category  \\\n",
       "1             __label__Household   \n",
       "2             __label__Household   \n",
       "3           __label__Electronics   \n",
       "4  __label__Clothing_Accessories   \n",
       "5  __label__Clothing_Accessories   \n",
       "\n",
       "                                category_description  \n",
       "1  __label__householdurban ladder eisner low back...  \n",
       "2  __label__householdcontrast living wooden decor...  \n",
       "3  __label__electronicsio crest sy pci40010 pci r...  \n",
       "4  __label__clothing_accessoriesisakaa baby socks...  \n",
       "5  __label__clothing_accessoriesindira designer w...  "
      ]
     },
     "execution_count": 26,
     "metadata": {},
     "output_type": "execute_result"
    }
   ],
   "source": [
    "df['category_description'] = df['category_description'].map(preprocess)\n",
    "df.head()"
   ]
  },
  {
   "cell_type": "code",
   "execution_count": 27,
   "id": "cd98b14e",
   "metadata": {},
   "outputs": [],
   "source": [
    "#Train Test Split\n",
    "from sklearn.model_selection import train_test_split\n",
    "train, test=train_test_split(df, test_size=0.2)"
   ]
  },
  {
   "cell_type": "code",
   "execution_count": 29,
   "id": "26757d39",
   "metadata": {},
   "outputs": [
    {
     "data": {
      "text/plain": [
       "((19200, 3), (4800, 3))"
      ]
     },
     "execution_count": 29,
     "metadata": {},
     "output_type": "execute_result"
    }
   ],
   "source": [
    "train.shape, test.shape"
   ]
  },
  {
   "cell_type": "code",
   "execution_count": 30,
   "id": "046bf9c6",
   "metadata": {},
   "outputs": [],
   "source": [
    "train.to_csv(\"ecommerce.train\", columns=[\"category_description\"], index=False, header=False)\n",
    "test.to_csv(\"ecommerce.test\", columns=[\"category_description\"], index=False, header=False)"
   ]
  },
  {
   "cell_type": "markdown",
   "id": "9183418d",
   "metadata": {},
   "source": [
    "#### Train the model and evaluate performance\n"
   ]
  },
  {
   "cell_type": "code",
   "execution_count": 31,
   "id": "1c396e09",
   "metadata": {},
   "outputs": [
    {
     "data": {
      "text/plain": [
       "(4312, 0.06586270871985157, 0.06586270871985157)"
      ]
     },
     "execution_count": 31,
     "metadata": {},
     "output_type": "execute_result"
    }
   ],
   "source": [
    "import fasttext\n",
    "\n",
    "model=fasttext.train_supervised(input='ecommerce.train')\n",
    "model.test('ecommerce.test')"
   ]
  },
  {
   "cell_type": "markdown",
   "id": "18bd3630",
   "metadata": {},
   "source": [
    "#### Now let's do prediction for few product description "
   ]
  },
  {
   "cell_type": "code",
   "execution_count": 32,
   "id": "ff53c5a0",
   "metadata": {},
   "outputs": [
    {
     "data": {
      "text/plain": [
       "(('__label__booksthe',), array([0.01424666]))"
      ]
     },
     "execution_count": 32,
     "metadata": {},
     "output_type": "execute_result"
    }
   ],
   "source": [
    "model.predict(\"think and grow rich deluxe edition\")"
   ]
  },
  {
   "cell_type": "code",
   "execution_count": 33,
   "id": "6917c287",
   "metadata": {},
   "outputs": [
    {
     "data": {
      "text/plain": [
       "[(0.8257738947868347, 'jockey'),\n",
       " (0.813524067401886, 'sj7'),\n",
       " (0.8135238885879517, 'specifiactions'),\n",
       " (0.8134263753890991, 'plzz'),\n",
       " (0.8134263753890991, 'rex'),\n",
       " (0.8133007287979126, \"'ganesh'\"),\n",
       " (0.8133007287979126, 'sanfsas7500'),\n",
       " (0.8132335543632507, 'compounded'),\n",
       " (0.8131494522094727, 'super'),\n",
       " (0.8126217126846313, 'cms')]"
      ]
     },
     "execution_count": 33,
     "metadata": {},
     "output_type": "execute_result"
    }
   ],
   "source": [
    "model.get_nearest_neighbors(\"painting\")"
   ]
  },
  {
   "cell_type": "code",
   "execution_count": 34,
   "id": "a052a66f",
   "metadata": {},
   "outputs": [
    {
     "data": {
      "text/plain": [
       "[(0.9785565137863159, 'eg5'),\n",
       " (0.9785012602806091, 'ws623'),\n",
       " (0.9785010814666748, 'buddies'),\n",
       " (0.9785010814666748, '45c'),\n",
       " (0.9784780740737915, 'workflows'),\n",
       " (0.978457510471344, 'typec'),\n",
       " (0.9784382581710815, 'handycams'),\n",
       " (0.9784382581710815, 'mshx8b'),\n",
       " (0.9784382581710815, 'α'),\n",
       " (0.9784382581710815, '15mb')]"
      ]
     },
     "execution_count": 34,
     "metadata": {},
     "output_type": "execute_result"
    }
   ],
   "source": [
    "model.get_nearest_neighbors(\"sony\")"
   ]
  },
  {
   "cell_type": "code",
   "execution_count": 35,
   "id": "2fc1d3ac",
   "metadata": {},
   "outputs": [
    {
     "data": {
      "text/plain": [
       "[(0.0, 'to'),\n",
       " (0.0, 'and'),\n",
       " (0.0, 'a'),\n",
       " (0.0, 'with'),\n",
       " (0.0, 'for'),\n",
       " (0.0, 'is'),\n",
       " (0.0, '</s>'),\n",
       " (0.0, '81fv00knin'),\n",
       " (0.0, 'teamster'),\n",
       " (0.0, 'junkyard')]"
      ]
     },
     "execution_count": 35,
     "metadata": {},
     "output_type": "execute_result"
    }
   ],
   "source": [
    "model.get_nearest_neighbors(\"banglore\")"
   ]
  },
  {
   "cell_type": "code",
   "execution_count": 36,
   "id": "21d6ba7e",
   "metadata": {},
   "outputs": [
    {
     "data": {
      "text/plain": [
       "(('__label__clothing_accessoriesunited',), array([0.01588377]))"
      ]
     },
     "execution_count": 36,
     "metadata": {},
     "output_type": "execute_result"
    }
   ],
   "source": [
    "model.predict(\"ockey men's cotton t shirt fabric details 80 cotton 20 polyester super combed cotton rich fabric\")"
   ]
  }
 ],
 "metadata": {
  "kernelspec": {
   "display_name": "Python 3 (ipykernel)",
   "language": "python",
   "name": "python3"
  },
  "language_info": {
   "codemirror_mode": {
    "name": "ipython",
    "version": 3
   },
   "file_extension": ".py",
   "mimetype": "text/x-python",
   "name": "python",
   "nbconvert_exporter": "python",
   "pygments_lexer": "ipython3",
   "version": "3.9.18"
  }
 },
 "nbformat": 4,
 "nbformat_minor": 5
}
