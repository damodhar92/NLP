{
 "cells": [
  {
   "cell_type": "code",
   "execution_count": 1,
   "id": "4c4448c4",
   "metadata": {},
   "outputs": [],
   "source": [
    "import spacy"
   ]
  },
  {
   "cell_type": "code",
   "execution_count": 2,
   "id": "5138c10c",
   "metadata": {},
   "outputs": [],
   "source": [
    "nlp=spacy.load(\"en_core_web_lg\")"
   ]
  },
  {
   "cell_type": "code",
   "execution_count": 3,
   "id": "36a95255",
   "metadata": {},
   "outputs": [
    {
     "name": "stdout",
     "output_type": "stream",
     "text": [
      "dog Vector: True OOV: False\n",
      "cat Vector: True OOV: False\n",
      "banana Vector: True OOV: False\n",
      "kem Vector: False OOV: True\n"
     ]
    }
   ],
   "source": [
    "doc=nlp('dog cat banana kem')\n",
    "\n",
    "for token in doc:\n",
    "    print(token.text, \"Vector:\", token.has_vector, \"OOV:\", token.is_oov)    "
   ]
  },
  {
   "cell_type": "code",
   "execution_count": 4,
   "id": "890e83cf",
   "metadata": {},
   "outputs": [
    {
     "data": {
      "text/plain": [
       "(300,)"
      ]
     },
     "execution_count": 4,
     "metadata": {},
     "output_type": "execute_result"
    }
   ],
   "source": [
    "#shape of the vector \n",
    "doc[0].vector.shape"
   ]
  },
  {
   "cell_type": "code",
   "execution_count": 5,
   "id": "e41ffe5f",
   "metadata": {},
   "outputs": [],
   "source": [
    "base_token= nlp(\"bread\")"
   ]
  },
  {
   "cell_type": "code",
   "execution_count": 6,
   "id": "4d838346",
   "metadata": {},
   "outputs": [
    {
     "data": {
      "text/plain": [
       "(300,)"
      ]
     },
     "execution_count": 6,
     "metadata": {},
     "output_type": "execute_result"
    }
   ],
   "source": [
    "base_token.vector.shape"
   ]
  },
  {
   "cell_type": "code",
   "execution_count": 7,
   "id": "848876cb",
   "metadata": {},
   "outputs": [
    {
     "name": "stdout",
     "output_type": "stream",
     "text": [
      "bread <-> bread: 1.0\n",
      "sandwich <-> bread: 0.6341067552566528\n",
      "burger <-> bread: 0.4752069115638733\n",
      "car <-> bread: 0.06451533734798431\n",
      "tiger <-> bread: 0.047646112740039825\n",
      "human <-> bread: 0.21511542797088623\n",
      "whaeat <-> bread: 0.0\n"
     ]
    },
    {
     "name": "stderr",
     "output_type": "stream",
     "text": [
      "C:\\Users\\Damodhara\\AppData\\Local\\Temp\\ipykernel_11444\\2552859305.py:4: UserWarning: [W008] Evaluating Token.similarity based on empty vectors.\n",
      "  print(f\"{token.text} <-> {base_token.text}:\",token.similarity(base_token[0]))\n"
     ]
    }
   ],
   "source": [
    "doc = nlp(\"bread sandwich burger car tiger human whaeat\")\n",
    "\n",
    "for token in doc:\n",
    "    print(f\"{token.text} <-> {base_token.text}:\",token.similarity(base_token[0]))"
   ]
  },
  {
   "cell_type": "markdown",
   "id": "415c472f",
   "metadata": {},
   "source": [
    "* if the value comes closer to 1 it is more similar."
   ]
  },
  {
   "cell_type": "code",
   "execution_count": 8,
   "id": "ceb72b69",
   "metadata": {},
   "outputs": [],
   "source": [
    "def print_similarity(base_word, words_to_compare):\n",
    "    base_token = nlp(base_word)\n",
    "    doc = nlp(words_to_compare)\n",
    "    for token in doc:\n",
    "        print(f\"{token.text} <-> {base_token.text}\", token.similarity(base_token))"
   ]
  },
  {
   "cell_type": "code",
   "execution_count": 9,
   "id": "3c787a01",
   "metadata": {},
   "outputs": [
    {
     "name": "stdout",
     "output_type": "stream",
     "text": [
      "apple <-> iphone 0.4387907748060368\n",
      "samsung <-> iphone 0.6708590303423401\n",
      "iphone <-> iphone 0.9999999983096304\n",
      "dog <-> iphone 0.08211864228011527\n",
      "kitten <-> iphone 0.10222317834969896\n"
     ]
    }
   ],
   "source": [
    "print_similarity(\"iphone\", \"apple samsung iphone dog kitten\")"
   ]
  },
  {
   "cell_type": "code",
   "execution_count": 10,
   "id": "7b6360b1",
   "metadata": {},
   "outputs": [],
   "source": [
    "king = nlp.vocab['King'].vector\n",
    "man = nlp.vocab['man'].vector\n",
    "woman = nlp.vocab['woman'].vector\n",
    "queen = nlp.vocab['queen'].vector\n",
    "\n",
    "result = king-man+woman"
   ]
  },
  {
   "cell_type": "code",
   "execution_count": 11,
   "id": "87fcc605",
   "metadata": {},
   "outputs": [
    {
     "data": {
      "text/plain": [
       "array([[0.43668598]], dtype=float32)"
      ]
     },
     "execution_count": 11,
     "metadata": {},
     "output_type": "execute_result"
    }
   ],
   "source": [
    "from sklearn.metrics.pairwise import cosine_similarity\n",
    "\n",
    "cosine_similarity([result], [queen])"
   ]
  }
 ],
 "metadata": {
  "kernelspec": {
   "display_name": "Python 3 (ipykernel)",
   "language": "python",
   "name": "python3"
  },
  "language_info": {
   "codemirror_mode": {
    "name": "ipython",
    "version": 3
   },
   "file_extension": ".py",
   "mimetype": "text/x-python",
   "name": "python",
   "nbconvert_exporter": "python",
   "pygments_lexer": "ipython3",
   "version": "3.9.18"
  }
 },
 "nbformat": 4,
 "nbformat_minor": 5
}
